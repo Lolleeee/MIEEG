{
  "cells": [
    {
      "cell_type": "code",
      "execution_count": 4,
      "id": "2ec5b470",
      "metadata": {
        "colab": {
          "base_uri": "https://localhost:8080/"
        },
        "id": "2ec5b470",
        "outputId": "27f3419f-31d3-43ea-92d4-ad45e189828a"
      },
      "outputs": [
        {
          "name": "stdout",
          "output_type": "stream",
          "text": [
            "fatal: destination path 'MIEEG' already exists and is not an empty directory.\n",
            "Mounted at drive/\n"
          ]
        }
      ],
      "source": [
        "!git clone https://github.com/Lolleeee/MIEEG\n",
        "import os\n",
        "os.environ['DATASET_FOLDER'] = 'dataset'\n",
        "os.chdir(\"MIEEG\")\n",
        "from google.colab import drive\n",
        "drive.mount('drive/')"
      ]
    },
    {
      "cell_type": "code",
      "execution_count": 5,
      "id": "aveRxZF0Jhgz",
      "metadata": {
        "id": "aveRxZF0Jhgz"
      },
      "outputs": [],
      "source": [
        "!unzip -q /content/drive/MyDrive/Colab_env/WAY-EEG/WAYEEG_DATASET_DL.zip -d dataset"
      ]
    },
    {
      "cell_type": "code",
      "execution_count": 12,
      "id": "sPo22FjlMiRh",
      "metadata": {
        "colab": {
          "base_uri": "https://localhost:8080/"
        },
        "id": "sPo22FjlMiRh",
        "outputId": "6e3297e6-1509-45bc-cff9-c20f306e4525"
      },
      "outputs": [
        {
          "name": "stdout",
          "output_type": "stream",
          "text": [
            "build_dataset.py    data_formatting  packages\ttraining_history.png\n",
            "cloud_script.ipynb  exploration      README.md\ttrain_model.py\n"
          ]
        }
      ],
      "source": [
        "!ls"
      ]
    },
    {
      "cell_type": "code",
      "execution_count": null,
      "id": "5473cd8f",
      "metadata": {
        "colab": {
          "base_uri": "https://localhost:8080/",
          "height": 365
        },
        "id": "5473cd8f",
        "outputId": "e53d3002-eefb-47c2-9a12-8a595632811a"
      },
      "outputs": [
        {
          "ename": "FileNotFoundError",
          "evalue": "[Errno 2] No such file or directory: '/content/dataset/WAYEEG_processed/patient1'",
          "output_type": "error",
          "traceback": [
            "\u001b[31m---------------------------------------------------------------------------\u001b[39m",
            "\u001b[31mFileNotFoundError\u001b[39m                         Traceback (most recent call last)",
            "\u001b[36mCell\u001b[39m\u001b[36m \u001b[39m\u001b[32mIn[1]\u001b[39m\u001b[32m, line 29\u001b[39m\n\u001b[32m     16\u001b[39m config = {\n\u001b[32m     17\u001b[39m     \u001b[33m'\u001b[39m\u001b[33mbatch_size\u001b[39m\u001b[33m'\u001b[39m: \u001b[32m32\u001b[39m,\n\u001b[32m     18\u001b[39m     \u001b[33m'\u001b[39m\u001b[33mlr\u001b[39m\u001b[33m'\u001b[39m: \u001b[32m1e-3\u001b[39m,\n\u001b[32m   (...)\u001b[39m\u001b[32m     24\u001b[39m     \u001b[33m'\u001b[39m\u001b[33mhistory_plot\u001b[39m\u001b[33m'\u001b[39m: {\u001b[33m'\u001b[39m\u001b[33mplot_type\u001b[39m\u001b[33m'\u001b[39m: \u001b[33m'\u001b[39m\u001b[33mextended\u001b[39m\u001b[33m'\u001b[39m, \u001b[33m'\u001b[39m\u001b[33msave_path\u001b[39m\u001b[33m'\u001b[39m: \u001b[33m'\u001b[39m\u001b[33m./training_history\u001b[39m\u001b[33m'\u001b[39m}\n\u001b[32m     25\u001b[39m }\n\u001b[32m     27\u001b[39m metrics = {\u001b[33m'\u001b[39m\u001b[33mMAE\u001b[39m\u001b[33m'\u001b[39m: mae}\n\u001b[32m---> \u001b[39m\u001b[32m29\u001b[39m dataset = \u001b[43mDataset\u001b[49m\u001b[43m(\u001b[49m\u001b[43mroot_folder\u001b[49m\u001b[43m=\u001b[49m\u001b[43mdataset_path\u001b[49m\u001b[43m,\u001b[49m\u001b[43m \u001b[49m\u001b[43munpack_func\u001b[49m\u001b[43m=\u001b[49m\u001b[33;43m'\u001b[39;49m\u001b[33;43mdict\u001b[39;49m\u001b[33;43m'\u001b[39;49m\u001b[43m)\u001b[49m\n\u001b[32m     31\u001b[39m train_loader, val_loader, _ = get_data_loaders(dataset, sets_size={\u001b[33m'\u001b[39m\u001b[33mtrain\u001b[39m\u001b[33m'\u001b[39m: \u001b[32m0.7\u001b[39m, \u001b[33m'\u001b[39m\u001b[33mval\u001b[39m\u001b[33m'\u001b[39m: \u001b[32m0.3\u001b[39m, \u001b[33m'\u001b[39m\u001b[33mtest\u001b[39m\u001b[33m'\u001b[39m: \u001b[32m0\u001b[39m})\n\u001b[32m     33\u001b[39m \u001b[38;5;28mprint\u001b[39m(\u001b[33m\"\u001b[39m\u001b[38;5;130;01m\\n\u001b[39;00m\u001b[33mStarting training loop...\u001b[39m\u001b[33m\"\u001b[39m)\n",
            "\u001b[36mFile \u001b[39m\u001b[32m~/Projects/MIEEG/packages/data_objects/dataset.py:43\u001b[39m, in \u001b[36mDataset.__init__\u001b[39m\u001b[34m(self, root_folder, unpack_func, file_type)\u001b[39m\n\u001b[32m     41\u001b[39m \u001b[38;5;28mself\u001b[39m.file_type = file_type\n\u001b[32m     42\u001b[39m \u001b[38;5;28mself\u001b[39m.unpack_func = unpack_func\n\u001b[32m---> \u001b[39m\u001b[32m43\u001b[39m \u001b[38;5;28mself\u001b[39m.file_list = \u001b[38;5;28;43mself\u001b[39;49m\u001b[43m.\u001b[49m\u001b[43m_gather_files\u001b[49m\u001b[43m(\u001b[49m\u001b[43m)\u001b[49m\n\u001b[32m     45\u001b[39m \u001b[38;5;28;01mif\u001b[39;00m \u001b[38;5;28mself\u001b[39m.file_list \u001b[38;5;129;01mis\u001b[39;00m \u001b[38;5;28;01mNone\u001b[39;00m \u001b[38;5;129;01mor\u001b[39;00m \u001b[38;5;28mlen\u001b[39m(\u001b[38;5;28mself\u001b[39m.file_list) == \u001b[32m0\u001b[39m:\n\u001b[32m     46\u001b[39m     logging.warning(\u001b[33mf\u001b[39m\u001b[33m\"\u001b[39m\u001b[33mNo files found in \u001b[39m\u001b[38;5;132;01m{\u001b[39;00mroot_folder\u001b[38;5;132;01m}\u001b[39;00m\u001b[33m with type \u001b[39m\u001b[38;5;132;01m{\u001b[39;00mfile_type\u001b[38;5;132;01m}\u001b[39;00m\u001b[33m\"\u001b[39m)\n",
            "\u001b[36mFile \u001b[39m\u001b[32m~/Projects/MIEEG/packages/data_objects/dataset.py:52\u001b[39m, in \u001b[36mDataset._gather_files\u001b[39m\u001b[34m(self)\u001b[39m\n\u001b[32m     48\u001b[39m \u001b[38;5;28;01mdef\u001b[39;00m\u001b[38;5;250m \u001b[39m\u001b[34m_gather_files\u001b[39m(\u001b[38;5;28mself\u001b[39m):\n\u001b[32m     49\u001b[39m     \u001b[38;5;66;03m# Check if there are subdirectories (patient folders)\u001b[39;00m\n\u001b[32m     50\u001b[39m     subdirs = \u001b[38;5;28many\u001b[39m(\n\u001b[32m     51\u001b[39m         os.path.isdir(os.path.join(\u001b[38;5;28mself\u001b[39m.root_folder, item))\n\u001b[32m---> \u001b[39m\u001b[32m52\u001b[39m         \u001b[38;5;28;01mfor\u001b[39;00m item \u001b[38;5;129;01min\u001b[39;00m \u001b[43mos\u001b[49m\u001b[43m.\u001b[49m\u001b[43mlistdir\u001b[49m\u001b[43m(\u001b[49m\u001b[38;5;28;43mself\u001b[39;49m\u001b[43m.\u001b[49m\u001b[43mroot_folder\u001b[49m\u001b[43m)\u001b[49m\n\u001b[32m     53\u001b[39m     )\n\u001b[32m     54\u001b[39m     \u001b[38;5;28;01mif\u001b[39;00m subdirs:\n\u001b[32m     55\u001b[39m         \u001b[38;5;66;03m# If there are subdirectories, search recursively\u001b[39;00m\n\u001b[32m     56\u001b[39m         pattern = os.path.join(\u001b[38;5;28mself\u001b[39m.root_folder, \u001b[33m\"\u001b[39m\u001b[33m**\u001b[39m\u001b[33m\"\u001b[39m, \u001b[33mf\u001b[39m\u001b[33m\"\u001b[39m\u001b[33m*.\u001b[39m\u001b[38;5;132;01m{\u001b[39;00m\u001b[38;5;28mself\u001b[39m.file_type\u001b[38;5;132;01m}\u001b[39;00m\u001b[33m\"\u001b[39m)\n",
            "\u001b[31mFileNotFoundError\u001b[39m: [Errno 2] No such file or directory: '/content/dataset/WAYEEG_processed/patient1'"
          ]
        }
      ],
      "source": [
        "from packages.models.Autoencoder import Conv3DAutoencoder\n",
        "from packages.train.training import train_model\n",
        "from packages.io.input_loader import get_data_loaders\n",
        "import torch\n",
        "import os\n",
        "from packages.data_objects.dataset import Dataset\n",
        "from dotenv import load_dotenv\n",
        "model = Conv3DAutoencoder(in_channels=50, embedding_dim=256)\n",
        "load_dotenv()\n",
        "dataset_path = \"/content/dataset/WAYEEG_processed/patient1\"\n",
        "# Dummy training loop\n",
        "optimizer = torch.optim.AdamW\n",
        "criterion = torch.nn.MSELoss\n",
        "mae = torch.nn.L1Loss\n",
        "\n",
        "config = {\n",
        "    'batch_size': 32,\n",
        "    'lr': 1e-3,\n",
        "    'epochs': 5,\n",
        "    'backup_interval': 10,\n",
        "    'EarlyStopping' : {'patience': 1, 'min_delta': 0.1},\n",
        "    'BackupManager': {'backup_interval': 10, 'backup_path': './model_backups'},\n",
        "    'ReduceLROnPlateau': {'mode': 'min', 'patience': 1, 'factor': 0.1},\n",
        "    'history_plot': {'plot_type': 'extended', 'save_path': './training_history'}\n",
        "}\n",
        "\n",
        "metrics = {'MAE': mae}\n",
        "\n",
        "dataset = Dataset(root_folder=dataset_path, unpack_func='dict')\n",
        "\n",
        "train_loader, val_loader, _ = get_data_loaders(dataset, sets_size={'train': 0.7, 'val': 0.3, 'test': 0})\n",
        "\n",
        "print(\"\\nStarting training loop...\")\n",
        "model.train()\n",
        "train_model(model, train_loader=train_loader, val_loader=val_loader, loss_criterion=criterion, optimizer=optimizer, config=config, metrics=metrics)"
      ]
    },
    {
      "cell_type": "code",
      "execution_count": null,
      "id": "528e1c0d",
      "metadata": {},
      "outputs": [],
      "source": [
        "from packages.plotting.reconstruction_plots import plot_reconstruction_scatter\n",
        "sample = next(iter(val_loader))\n",
        "inputs = sample.to(torch.device('cpu'))\n",
        "model.eval()\n",
        "with torch.no_grad():\n",
        "    reconstructed = model(inputs)\n",
        "# Plotting the scatter plot\n",
        "plot_reconstruction_scatter(original=inputs, reconstructed=reconstructed)"
      ]
    }
  ],
  "metadata": {
    "colab": {
      "provenance": []
    },
    "kernelspec": {
      "display_name": ".venv",
      "language": "python",
      "name": "python3"
    },
    "language_info": {
      "codemirror_mode": {
        "name": "ipython",
        "version": 3
      },
      "file_extension": ".py",
      "mimetype": "text/x-python",
      "name": "python",
      "nbconvert_exporter": "python",
      "pygments_lexer": "ipython3",
      "version": "3.12.3"
    }
  },
  "nbformat": 4,
  "nbformat_minor": 5
}
