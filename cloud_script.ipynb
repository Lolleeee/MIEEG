{
  "cells": [
    {
      "cell_type": "code",
      "execution_count": 2,
      "id": "2ec5b470",
      "metadata": {
        "id": "2ec5b470",
        "outputId": "d7b57480-8a17-4848-e212-2220088d9b9e",
        "colab": {
          "base_uri": "https://localhost:8080/"
        }
      },
      "outputs": [
        {
          "output_type": "stream",
          "name": "stdout",
          "text": [
            "fatal: destination path 'MIEEG' already exists and is not an empty directory.\n",
            "Mounted at content/\n"
          ]
        }
      ],
      "source": [
        "!git clone https://github.com/Lolleeee/MIEEG\n",
        "!cd MIEEG\n",
        "import os\n",
        "os.environ['DATASET_FOLDER'] = 'dataset'\n",
        "\n",
        "from google.colab import drive\n",
        "drive.mount('content/')"
      ]
    },
    {
      "cell_type": "code",
      "source": [
        "!unzip -q /content/drive/MyDrive/Colab_env/WAY-EEG/... -d dataset"
      ],
      "metadata": {
        "id": "aveRxZF0Jhgz"
      },
      "id": "aveRxZF0Jhgz",
      "execution_count": null,
      "outputs": []
    },
    {
      "cell_type": "code",
      "execution_count": null,
      "id": "5473cd8f",
      "metadata": {
        "id": "5473cd8f"
      },
      "outputs": [],
      "source": [
        "from packages.models.Autoencoder import Conv3DAutoencoder\n",
        "from packages.train.training import train_model\n",
        "from packages.io.input_loader import get_data_loaders\n",
        "import torch\n",
        "import os\n",
        "from packages.data_objects.dataset import Dataset\n",
        "from dotenv import load_dotenv\n",
        "model = Conv3DAutoencoder(in_channels=50, embedding_dim=256)\n",
        "load_dotenv()\n",
        "dataset_path = os.getenv(\"DATASET_PATH\")\n",
        "# Dummy training loop\n",
        "optimizer = torch.optim.AdamW\n",
        "criterion = torch.nn.MSELoss\n",
        "mae = torch.nn.L1Loss\n",
        "\n",
        "config = {\n",
        "    'batch_size': 32,\n",
        "    'lr': 1e-3,\n",
        "    'epochs': 5,\n",
        "    'backup_interval': 10,\n",
        "    'EarlyStopping' : {'patience': 1, 'min_delta': 0.1},\n",
        "    'BackupManager': {'backup_interval': 10, 'backup_path': './model_backups'},\n",
        "    'ReduceLROnPlateau': {'mode': 'min', 'patience': 1, 'factor': 0.1},\n",
        "    'history_plot': {'plot_type': 'extended', 'save_path': './training_history'}\n",
        "}\n",
        "\n",
        "metrics = {'MAE': mae}\n",
        "\n",
        "dataset = Dataset(root_folder=dataset_path, unpack_func='dict', nsamples=4)\n",
        "\n",
        "train_loader, val_loader, _ = get_data_loaders(dataset, sets_size={'train': 0.7, 'val': 0.3, 'test': 0})\n",
        "\n",
        "print(\"\\nStarting training loop...\")\n",
        "model.train()\n",
        "train_model(model, train_loader=train_loader, val_loader=val_loader, loss_criterion=criterion, optimizer=optimizer, config=config, metrics=metrics)"
      ]
    }
  ],
  "metadata": {
    "language_info": {
      "name": "python"
    },
    "colab": {
      "provenance": []
    },
    "kernelspec": {
      "name": "python3",
      "display_name": "Python 3"
    }
  },
  "nbformat": 4,
  "nbformat_minor": 5
}