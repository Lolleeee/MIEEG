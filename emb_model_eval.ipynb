{
 "cells": [
  {
   "cell_type": "code",
   "execution_count": 1,
   "id": "b66a8289",
   "metadata": {},
   "outputs": [
    {
     "name": "stdout",
     "output_type": "stream",
     "text": [
      "fatal: destination path 'MIEEG' already exists and is not an empty directory.\n"
     ]
    }
   ],
   "source": [
    "!git clone https://github.com/Lolleeee/MIEEG\n",
    "import os \n",
    "os.chdir(\"MIEEG\")"
   ]
  },
  {
   "cell_type": "code",
   "execution_count": 2,
   "id": "4c7249de",
   "metadata": {},
   "outputs": [
    {
     "name": "stderr",
     "output_type": "stream",
     "text": [
      "Calculating global parameters: 100%|██████████| 87/87 [00:32<00:00,  2.69it/s]"
     ]
    },
    {
     "name": "stdout",
     "output_type": "stream",
     "text": [
      "Calculated mean shape: torch.Size([1, 25, 7, 5, 1]), std shape: torch.Size([1, 25, 7, 5, 1])\n"
     ]
    },
    {
     "name": "stderr",
     "output_type": "stream",
     "text": [
      "\n"
     ]
    }
   ],
   "source": [
    "from packages.train.training import train_model\n",
    "from packages.io.file_loader import get_data_loaders\n",
    "import torch\n",
    "import os\n",
    "\n",
    "from packages.data_objects.dataset import TorchDataset, CustomTestDataset\n",
    "\n",
    "dataset_path = \"/kaggle/input/0-5subset-datanooverlap\"\n",
    "# Dummy training loop\n",
    "\n",
    "dataset = TorchDataset(root_folder=dataset_path, chunk_size=64)\n",
    "\n",
    "train_loader, val_loader, _ = get_data_loaders(dataset, sets_size={'train': 0.7, 'val': 0.3, 'test': 0.}, norm_axes=(0, 1, 5), batch_size = 64)\n",
    "# norm_params = train_loader.dataset.dataset._norm_params"
   ]
  },
  {
   "cell_type": "code",
   "execution_count": 5,
   "id": "c992ee3f",
   "metadata": {},
   "outputs": [
    {
     "data": {
      "text/plain": [
       "<All keys matched successfully>"
      ]
     },
     "execution_count": 5,
     "metadata": {},
     "output_type": "execute_result"
    }
   ],
   "source": [
    "optimizer = torch.optim.AdamW\n",
    "from packages.models.vqae import SequenceProcessor\n",
    "from packages.models.vqae_skip import VQVAE\n",
    "from packages.train.loss import VQVAELoss, SequenceVQVAELoss\n",
    "model = SequenceProcessor(chunk_shape=(25, 7, 5, 64), embedding_dim=32, codebook_size=1024, use_quantizer=True)\n",
    "model.chunk_ae = VQVAE(\n",
    "    in_channels = 25,\n",
    "    input_spatial=(7, 5, 64),\n",
    "    embedding_dim=32,\n",
    "    codebook_size=1024,\n",
    "    use_skip_connections=True,\n",
    "    num_downsample_stages=3,\n",
    "    skip_strength=0.1)\n",
    "model.load_state_dict(torch.load(\"/kaggle/working/MIEEG/model_backups/best_model_epoch_21.pt\"))"
   ]
  },
  {
   "cell_type": "code",
   "execution_count": 21,
   "id": "248d4c2a",
   "metadata": {},
   "outputs": [
    {
     "name": "stdout",
     "output_type": "stream",
     "text": [
      "Output shapes: torch.Size([64, 3, 25, 7, 5, 64]), torch.Size([]), torch.Size([192]), batch: torch.Size([64, 3, 25, 7, 5, 64])\n",
      "torch.Size([64, 3, 25, 7, 5, 64])\n",
      "torch.Size([])\n",
      "torch.Size([192])\n",
      "tensor(0.1829)\n"
     ]
    }
   ],
   "source": [
    "criterion = SequenceVQVAELoss(\n",
    "    recon_loss_type='mse',\n",
    "    recon_weight=1.0)    \n",
    "model.eval()\n",
    "with torch.no_grad():\n",
    "    for batch in val_loader:\n",
    "        out = model(batch)\n",
    "        print(f\"Output shapes: {out[0].shape}, {out[1].shape}, {out[2].shape}, batch: {batch.shape}\")\n",
    "        for i in range(len(out)):\n",
    "            print(out[i].shape)\n",
    "        print(criterion(out, batch))\n",
    "        break"
   ]
  },
  {
   "cell_type": "code",
   "execution_count": 11,
   "id": "f88309a9",
   "metadata": {},
   "outputs": [
    {
     "data": {
      "text/plain": [
       "tensor([529, 529, 529, 529, 529, 529, 529, 529, 529, 529, 529, 529, 529, 529,\n",
       "        529, 529, 529, 529, 529, 529, 529, 529, 529, 529, 529, 529, 529, 529,\n",
       "        529, 529, 529, 529, 529, 529, 529, 529, 529, 529, 529, 529, 529, 529,\n",
       "        529, 529, 529, 529, 529, 529, 529, 529, 529, 529, 529, 529, 529, 529,\n",
       "        529, 529, 529, 529, 529, 529, 529, 529, 529, 529, 529, 529, 529, 529,\n",
       "        529, 529, 529, 529, 529, 529, 529, 529, 529, 529, 529, 529, 529, 529,\n",
       "        529, 529, 529, 529, 529, 529, 529, 529, 529, 529, 529, 529, 529, 529,\n",
       "        529, 529, 529, 529, 529, 529, 529, 529, 529, 529, 529, 529, 529, 529,\n",
       "        529, 529, 529, 529, 529, 529, 529, 529, 529, 529, 529, 529, 529, 529,\n",
       "        529, 529, 529, 529, 529, 529, 529, 529, 529, 529, 529, 529, 529, 529,\n",
       "        529, 529, 529, 529, 529, 529, 529, 529, 529, 529, 529, 529, 529, 529,\n",
       "        529, 529, 529, 529, 529, 529, 529, 529, 529, 529, 529, 529, 529, 529,\n",
       "        529, 529, 529, 529, 529, 529, 529, 529, 529, 529, 529, 529, 529, 529,\n",
       "        529, 529, 529, 529, 529, 529, 529, 529, 529, 529])"
      ]
     },
     "execution_count": 11,
     "metadata": {},
     "output_type": "execute_result"
    }
   ],
   "source": [
    "out[2]"
   ]
  }
 ],
 "metadata": {
  "colab": {
   "provenance": []
  },
  "kaggle": {
   "accelerator": "nvidiaTeslaT4",
   "dataSources": [
    {
     "datasetId": 8422972,
     "sourceId": 13290009,
     "sourceType": "datasetVersion"
    },
    {
     "datasetId": 8426266,
     "sourceId": 13294583,
     "sourceType": "datasetVersion"
    },
    {
     "datasetId": 8440335,
     "sourceId": 13314322,
     "sourceType": "datasetVersion"
    }
   ],
   "dockerImageVersionId": 31153,
   "isGpuEnabled": true,
   "isInternetEnabled": true,
   "language": "python",
   "sourceType": "notebook"
  },
  "kernelspec": {
   "display_name": "Python 3 (ipykernel)",
   "language": "python",
   "name": "python3"
  }
 },
 "nbformat": 4,
 "nbformat_minor": 5
}
