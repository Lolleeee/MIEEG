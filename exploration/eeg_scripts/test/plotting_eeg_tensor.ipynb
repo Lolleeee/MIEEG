{
 "cells": [
  {
   "cell_type": "code",
   "execution_count": 4,
   "id": "88793ad7",
   "metadata": {},
   "outputs": [],
   "source": [
    "import os\n",
    "import glob\n",
    "import numpy as np\n",
    "import scipy.io as sio\n",
    "import plotly.graph_objects as go\n",
    "import re\n",
    "\n",
    "base_folder = \"/media/lolly/Bruh/WAYEEGGAL_dataset/WAYEEG_preprocessed\"\n",
    "patient = \"P1\"\n",
    "idx = [10]  # Indices of trials to plot\n",
    "\n",
    "patient_id = int(patient.strip(\"P\"))\n",
    "folder_path = os.path.join(base_folder, patient)\n",
    "files = glob.glob(os.path.join(folder_path, f\"HS_P{patient_id}_trial*.mat\"))\n",
    "files.sort(key=lambda f: int(re.search(r'trial(\\d+)', f).group(1)))\n",
    "selected_files = [files[i] for i in idx]\n",
    "\n",
    "fig = go.Figure()\n",
    "\n",
    "for i, file in enumerate(selected_files):\n",
    "    mat = sio.loadmat(file, squeeze_me=True, struct_as_record=False)\n",
    "    eeg = np.array(mat[\"trial_eeg\"])"
   ]
  },
  {
   "cell_type": "code",
   "execution_count": 2,
   "id": "68371d21",
   "metadata": {},
   "outputs": [
    {
     "ename": "ImportError",
     "evalue": "cannot import name 'List' from 'types' (/usr/lib/python3.12/types.py)",
     "output_type": "error",
     "traceback": [
      "\u001b[31m---------------------------------------------------------------------------\u001b[39m",
      "\u001b[31mImportError\u001b[39m                               Traceback (most recent call last)",
      "\u001b[36mCell\u001b[39m\u001b[36m \u001b[39m\u001b[32mIn[2]\u001b[39m\u001b[32m, line 8\u001b[39m\n\u001b[32m      5\u001b[39m \u001b[38;5;28;01mif\u001b[39;00m project_root \u001b[38;5;129;01mnot\u001b[39;00m \u001b[38;5;129;01min\u001b[39;00m sys.path:\n\u001b[32m      6\u001b[39m     sys.path.append(project_root)\n\u001b[32m----> \u001b[39m\u001b[32m8\u001b[39m \u001b[38;5;28;01mfrom\u001b[39;00m\u001b[38;5;250m \u001b[39m\u001b[34;01mmodules\u001b[39;00m\u001b[34;01m.\u001b[39;00m\u001b[34;01mprocessing\u001b[39;00m\u001b[34;01m.\u001b[39;00m\u001b[34;01mwavelet\u001b[39;00m\u001b[38;5;250m \u001b[39m\u001b[38;5;28;01mimport\u001b[39;00m wavelet_transform\n",
      "\u001b[36mFile \u001b[39m\u001b[32m~/Projects/MIEEG/modules/processing/wavelet.py:3\u001b[39m\n\u001b[32m      1\u001b[39m \u001b[38;5;28;01mimport\u001b[39;00m\u001b[38;5;250m \u001b[39m\u001b[34;01mnumpy\u001b[39;00m\u001b[38;5;250m \u001b[39m\u001b[38;5;28;01mas\u001b[39;00m\u001b[38;5;250m \u001b[39m\u001b[34;01mnp\u001b[39;00m\n\u001b[32m      2\u001b[39m \u001b[38;5;28;01mimport\u001b[39;00m\u001b[38;5;250m \u001b[39m\u001b[34;01mpywt\u001b[39;00m\n\u001b[32m----> \u001b[39m\u001b[32m3\u001b[39m \u001b[38;5;28;01mfrom\u001b[39;00m\u001b[38;5;250m \u001b[39m\u001b[34;01mtypes\u001b[39;00m\u001b[38;5;250m \u001b[39m\u001b[38;5;28;01mimport\u001b[39;00m List\n\u001b[32m      6\u001b[39m \u001b[38;5;66;03m# This function transforms the input signal using wavelet transform\u001b[39;00m\n\u001b[32m      7\u001b[39m \u001b[38;5;28;01mdef\u001b[39;00m\u001b[38;5;250m \u001b[39m\u001b[34mwavelet_transform\u001b[39m(signal: np.ndarray, wavelet: \u001b[38;5;28mstr\u001b[39m = \u001b[33m'\u001b[39m\u001b[33mcmor1.5-1.0\u001b[39m\u001b[33m'\u001b[39m, bandwidth: List[\u001b[38;5;28mfloat\u001b[39m] = \u001b[38;5;28;01mNone\u001b[39;00m, fs: \u001b[38;5;28mfloat\u001b[39m = \u001b[38;5;28;01mNone\u001b[39;00m, num_samples: \u001b[38;5;28mint\u001b[39m = \u001b[38;5;28;01mNone\u001b[39;00m) -> \u001b[38;5;28mtuple\u001b[39m[np.ndarray, np.ndarray]:\n",
      "\u001b[31mImportError\u001b[39m: cannot import name 'List' from 'types' (/usr/lib/python3.12/types.py)"
     ]
    }
   ],
   "source": [
    "import sys\n",
    "import os\n",
    "\n",
    "project_root = os.path.abspath(os.path.join(os.getcwd(), \"..\", \"..\", \"..\"))\n",
    "if project_root not in sys.path:\n",
    "    sys.path.append(project_root)\n",
    "\n",
    "from modules.processing.wavelet import wavelet_transform"
   ]
  }
 ],
 "metadata": {
  "kernelspec": {
   "display_name": ".venv",
   "language": "python",
   "name": "python3"
  },
  "language_info": {
   "codemirror_mode": {
    "name": "ipython",
    "version": 3
   },
   "file_extension": ".py",
   "mimetype": "text/x-python",
   "name": "python",
   "nbconvert_exporter": "python",
   "pygments_lexer": "ipython3",
   "version": "3.12.3"
  }
 },
 "nbformat": 4,
 "nbformat_minor": 5
}
